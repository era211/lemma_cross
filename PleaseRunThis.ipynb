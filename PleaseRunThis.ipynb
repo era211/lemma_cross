{
 "cells": [
  {
   "cell_type": "markdown",
   "id": "adc5fa5f",
   "metadata": {},
   "source": [
    "# End-to-end Experiment for the ACL paper\n",
    "\n",
    "credits to https://github.com/aviclu/CDLM for code"
   ]
  },
  {
   "cell_type": "markdown",
   "id": "2efdc3ed",
   "metadata": {},
   "source": [
    "## Heuristic"
   ]
  },
  {
   "cell_type": "code",
   "id": "e33ceadc",
   "metadata": {},
   "source": [
    "from heuristic import lh, lh_oracle\n",
    "from helper import DEV, TEST"
   ],
   "outputs": [],
   "execution_count": null
  },
  {
   "cell_type": "code",
   "id": "7c92040e",
   "metadata": {},
   "source": [
    "ECB='ecb'\n",
    "GVC='gvc'"
   ],
   "outputs": [],
   "execution_count": null
  },
  {
   "cell_type": "markdown",
   "id": "07367cea",
   "metadata": {},
   "source": [
    "### LH - ECB"
   ]
  },
  {
   "cell_type": "code",
   "id": "6e5ae075",
   "metadata": {},
   "source": [
    "lh(ECB, threshold=0.05)"
   ],
   "outputs": [],
   "execution_count": null
  },
  {
   "cell_type": "markdown",
   "id": "180db81a",
   "metadata": {},
   "source": [
    "### LH - GVC"
   ]
  },
  {
   "cell_type": "code",
   "id": "decf0850",
   "metadata": {},
   "source": [
    "lh(GVC, threshold=0.05)\n",
    "print(\"ok\")"
   ],
   "outputs": [],
   "execution_count": null
  },
  {
   "cell_type": "markdown",
   "id": "9d5cad2b",
   "metadata": {},
   "source": [
    "### LH_ORACLE - ECB, GVC"
   ]
  },
  {
   "cell_type": "code",
   "id": "63898ab4",
   "metadata": {},
   "source": [
    "lh_oracle(ECB, threshold=0.05)\n",
    "lh_oracle(GVC, threshold=0.05)"
   ],
   "outputs": [],
   "execution_count": null
  },
  {
   "cell_type": "markdown",
   "id": "821c9832",
   "metadata": {},
   "source": [
    "## Training"
   ]
  },
  {
   "cell_type": "code",
   "id": "20840572",
   "metadata": {},
   "source": [
    "from training import train_dpos"
   ],
   "outputs": [],
   "execution_count": null
  },
  {
   "cell_type": "markdown",
   "id": "9bad1c1b",
   "metadata": {},
   "source": [
    "### D-Small"
   ]
  },
  {
   "cell_type": "code",
   "id": "44072ce6",
   "metadata": {},
   "source": [
    "#  batch_size=20, n_iters=10, lr_lm(Language model)=0.000001, lr_class(classifier)=0.0001\n",
    "#  max_sequence_length = 512\n",
    "train_dpos(ECB, model_name='/home/yaolong/PT_MODELS/PT_MODELS/roberta-base')\n",
    "train_dpos(GVC, model_name='/home/yaolong/PT_MODELS/PT_MODELS/roberta-base')"
   ],
   "outputs": [],
   "execution_count": null
  },
  {
   "cell_type": "markdown",
   "id": "3c29dfd4",
   "metadata": {},
   "source": [
    "### D-Long"
   ]
  },
  {
   "cell_type": "code",
   "id": "83f007db",
   "metadata": {},
   "source": [
    "#  batch_size=20, n_iters=10, lr_lm(Language model)=0.000001, lr_class(classifier)=0.0001\n",
    "#  max_sequence_length = 1024 \n",
    "train_dpos(ECB, model_name='allenai/longformer-base-4096')\n",
    "train_dpos(GVC, model_name='allenai/longformer-base-4096')"
   ],
   "outputs": [],
   "execution_count": null
  },
  {
   "cell_type": "markdown",
   "id": "e9ce9aa9",
   "metadata": {},
   "source": [
    "## Prediction"
   ]
  },
  {
   "cell_type": "code",
   "id": "6ef678da",
   "metadata": {},
   "source": [
    "from helper import DEV, TEST\n",
    "from prediction import predict"
   ],
   "outputs": [],
   "execution_count": null
  },
  {
   "cell_type": "markdown",
   "id": "b1a7a766",
   "metadata": {},
   "source": [
    "### Baselines"
   ]
  },
  {
   "cell_type": "code",
   "id": "b7ab9856",
   "metadata": {},
   "source": [
    "## LH predict ecb\n",
    "predict(ECB, TEST, heu='lh')"
   ],
   "outputs": [],
   "execution_count": null
  },
  {
   "cell_type": "code",
   "id": "a80c5300",
   "metadata": {},
   "source": [
    "## LH_ORACLE predict ecb\n",
    "predict(ECB, TEST, heu='lh_oracle')"
   ],
   "outputs": [],
   "execution_count": null
  },
  {
   "cell_type": "code",
   "id": "781c0037",
   "metadata": {},
   "source": [
    "## LH predict gvc\n",
    "predict(GVC, TEST, heu='lh')"
   ],
   "outputs": [],
   "execution_count": null
  },
  {
   "cell_type": "code",
   "id": "711b92fb",
   "metadata": {},
   "source": [
    "## LH_ORACLE predict gvc\n",
    "predict(GVC, TEST, heu='lh_oracle')"
   ],
   "outputs": [],
   "execution_count": null
  },
  {
   "cell_type": "markdown",
   "id": "102d18cb",
   "metadata": {},
   "source": [
    "### Running LH + D_small"
   ]
  },
  {
   "cell_type": "code",
   "id": "4c1930d5",
   "metadata": {},
   "source": [
    "from prediction import predict_with_dpos, save_dpos_scores, get_dpos"
   ],
   "outputs": [],
   "execution_count": null
  },
  {
   "cell_type": "code",
   "id": "6888abb1",
   "metadata": {},
   "source": [
    "# download ecb model\n",
    "\n",
    "! wget https://www.dropbox.com/s/rgvj73vt6wryhn6/ecb_small.zip?dl=0"
   ],
   "outputs": [],
   "execution_count": null
  },
  {
   "cell_type": "code",
   "id": "8520807a",
   "metadata": {},
   "source": [
    "!unzip ecb_small.zip\\?dl\\=0 \n",
    " "
   ],
   "outputs": [],
   "execution_count": null
  },
  {
   "cell_type": "code",
   "id": "61e6f472",
   "metadata": {},
   "source": [
    "heu ='lh'\n",
    "dpos_path =  './ecb_small/'\n",
    "save_dpos_scores(ECB, TEST, dpos_path, heu=heu, text_key='bert_sentence', max_sentence_len=512, long=False)\n",
    "dpos = get_dpos(ECB, heu, TEST)\n",
    "predict_with_dpos(ECB, TEST, dpos, heu=heu)"
   ],
   "outputs": [],
   "execution_count": null
  },
  {
   "cell_type": "code",
   "id": "3fad28ba",
   "metadata": {},
   "source": [
    "# LH_ORACLE + D small\n",
    "heu='lh_oracle'\n",
    "dpos_path =  './ecb_small/'\n",
    "save_dpos_scores(ECB, TEST, dpos_path, heu=heu, text_key='bert_sentence', max_sentence_len=512, long=False)\n",
    "dpos = get_dpos(ECB, heu, TEST)\n",
    "predict_with_dpos(ECB, TEST, dpos, heu=heu)"
   ],
   "outputs": [],
   "execution_count": null
  },
  {
   "cell_type": "markdown",
   "id": "340a7e6f",
   "metadata": {},
   "source": [
    "### D Long experiments"
   ]
  },
  {
   "cell_type": "code",
   "id": "34d1bc21",
   "metadata": {},
   "source": [
    "# LH + D long\n",
    "\n",
    "!wget https://www.dropbox.com/s/8u1xzdavoyk2c4o/ecb_long.zip?dl=0"
   ],
   "outputs": [],
   "execution_count": null
  },
  {
   "cell_type": "code",
   "id": "502130c4",
   "metadata": {},
   "source": [
    "!unzip ecb_long.zip\\?dl=0"
   ],
   "outputs": [],
   "execution_count": null
  },
  {
   "cell_type": "code",
   "id": "539a857d",
   "metadata": {
    "scrolled": true
   },
   "source": [
    "# LH + D long ECB\n",
    "\n",
    "heu='lh'\n",
    "dpos_path =  './ecb_long/'\n",
    "save_dpos_scores(ECB, TEST, dpos_path, heu=heu, text_key='bert_doc', max_sentence_len=1024, long=True)\n",
    "dpos = get_dpos(ECB, heu, TEST)\n",
    "predict_with_dpos(ECB, TEST, dpos, heu=heu)"
   ],
   "outputs": [],
   "execution_count": null
  },
  {
   "cell_type": "code",
   "id": "4e0900d5",
   "metadata": {},
   "source": [
    "# LH_Oracle + D long ECB\n",
    "\n",
    "heu='lh_oracle'\n",
    "dpos_path =  './ecb_long/'\n",
    "save_dpos_scores(ECB, TEST, dpos_path, heu=heu, text_key='bert_doc', max_sentence_len=1024, long=True)\n",
    "dpos = get_dpos(ECB, heu, TEST)\n",
    "predict_with_dpos(ECB, TEST, dpos, heu=heu)"
   ],
   "outputs": [],
   "execution_count": null
  },
  {
   "cell_type": "code",
   "id": "a125a6b6",
   "metadata": {},
   "source": [
    "# LH + D long for GVC \n",
    "\n",
    "!wget https://www.dropbox.com/s/rfj2yb4pm9l61mq/gvc_long.zip?dl=0"
   ],
   "outputs": [],
   "execution_count": null
  },
  {
   "cell_type": "code",
   "id": "fecbad31",
   "metadata": {},
   "source": [
    "!unzip gvc_long.zip\\?dl=0"
   ],
   "outputs": [],
   "execution_count": null
  },
  {
   "cell_type": "code",
   "id": "6273d083",
   "metadata": {},
   "source": [
    "# LH + D long GVC\n",
    "\n",
    "heu='lh'\n",
    "dpos_path =  './gvc_long/'\n",
    "save_dpos_scores(GVC, TEST, dpos_path, heu=heu, text_key='bert_doc', max_sentence_len=1024, long=True)\n",
    "dpos = get_dpos(GVC, heu, TEST)\n",
    "predict_with_dpos(GVC, TEST, dpos, heu=heu)"
   ],
   "outputs": [],
   "execution_count": null
  },
  {
   "cell_type": "code",
   "id": "b1ce7800",
   "metadata": {},
   "source": [
    "# LH_Oracle + D long GVC\n",
    "\n",
    "heu='lh_oracle'\n",
    "dpos_path =  './gvc_long/'\n",
    "save_dpos_scores(GVC, TEST, dpos_path, heu=heu, text_key='bert_doc', max_sentence_len=1024, long=True)\n",
    "dpos = get_dpos(GVC, heu, TEST)\n",
    "predict_with_dpos(GVC, TEST, dpos, heu=heu)"
   ],
   "outputs": [],
   "execution_count": null
  },
  {
   "cell_type": "markdown",
   "id": "c3548eec",
   "metadata": {},
   "source": [
    "#### GVC"
   ]
  },
  {
   "cell_type": "code",
   "id": "a3c4e151",
   "metadata": {},
   "source": [
    "# download gvc d small model\n",
    "\n",
    "!wget https://www.dropbox.com/s/3ytwc9q2sa8j67d/gvc_small.zip?dl=0"
   ],
   "outputs": [],
   "execution_count": null
  },
  {
   "cell_type": "code",
   "id": "2c9533ae",
   "metadata": {},
   "source": [
    "!unzip gvc_small.zip\\?dl\\=0"
   ],
   "outputs": [],
   "execution_count": null
  },
  {
   "cell_type": "code",
   "id": "e6622b6a",
   "metadata": {
    "scrolled": true
   },
   "source": [
    "# LH + D small\n",
    "\n",
    "heu='lh'\n",
    "dpos_path =  './gvc_small/'\n",
    "save_dpos_scores(GVC, TEST, dpos_path, heu=heu, text_key='bert_sentence', max_sentence_len=512, long=False)\n",
    "dpos = get_dpos(GVC, heu, TEST)\n",
    "predict_with_dpos(GVC, TEST, dpos, heu=heu)"
   ],
   "outputs": [],
   "execution_count": null
  },
  {
   "cell_type": "code",
   "id": "6cf1624d",
   "metadata": {},
   "source": [
    "# LH_Oracle + D small\n",
    "\n",
    "heu='lh_oracle'\n",
    "dpos_path =  './gvc_small/'\n",
    "save_dpos_scores(GVC, TEST, dpos_path, heu=heu, text_key='bert_sentence', max_sentence_len=512, long=False)\n",
    "dpos = get_dpos(GVC, heu, TEST)\n",
    "predict_with_dpos(GVC, TEST, dpos, heu=heu)"
   ],
   "outputs": [],
   "execution_count": null
  },
  {
   "cell_type": "code",
   "id": "75206ecd",
   "metadata": {},
   "source": [],
   "outputs": [],
   "execution_count": null
  },
  {
   "cell_type": "code",
   "id": "f865fed0",
   "metadata": {},
   "source": [],
   "outputs": [],
   "execution_count": null
  },
  {
   "cell_type": "code",
   "id": "30de2701",
   "metadata": {},
   "source": [],
   "outputs": [],
   "execution_count": null
  }
 ],
 "metadata": {
  "kernelspec": {
   "display_name": "Python 3",
   "language": "python",
   "name": "python3"
  },
  "language_info": {
   "codemirror_mode": {
    "name": "ipython",
    "version": 3
   },
   "file_extension": ".py",
   "mimetype": "text/x-python",
   "name": "python",
   "nbconvert_exporter": "python",
   "pygments_lexer": "ipython3",
   "version": "3.6.8"
  }
 },
 "nbformat": 4,
 "nbformat_minor": 5
}
